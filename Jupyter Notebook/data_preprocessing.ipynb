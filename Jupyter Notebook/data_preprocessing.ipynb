{
 "cells": [
  {
   "cell_type": "code",
   "execution_count": 3,
   "id": "44c6d1ae",
   "metadata": {},
   "outputs": [],
   "source": [
    "import os\n",
    "from glob import glob\n",
    "\n",
    "import numpy as np\n",
    "import pandas as pd\n",
    "from rdkit import Chem\n",
    "from rdkit.Chem.rdchem import RWMol\n",
    "from rdkit import Chem, RDLogger\n",
    "from rdkit.Chem.rdchem import BondType as BT\n",
    "from rdkit.Chem.rdchem import HybridizationType\n",
    "\n",
    "import torch\n",
    "import torch.nn.functional as F\n",
    "\n",
    "from torch_geometric.loader import DataLoader\n",
    "from torch_geometric.data import Data\n",
    "from torch_scatter import scatter"
   ]
  },
  {
   "cell_type": "code",
   "execution_count": 10,
   "id": "cdadf456",
   "metadata": {},
   "outputs": [],
   "source": [
    "smile_csv = pd.read_csv('../data/train_set.ReorgE.csv', index_col=0)"
   ]
  },
  {
   "cell_type": "code",
   "execution_count": 11,
   "id": "65f730a6",
   "metadata": {},
   "outputs": [
    {
     "data": {
      "text/html": [
       "<div>\n",
       "<style scoped>\n",
       "    .dataframe tbody tr th:only-of-type {\n",
       "        vertical-align: middle;\n",
       "    }\n",
       "\n",
       "    .dataframe tbody tr th {\n",
       "        vertical-align: top;\n",
       "    }\n",
       "\n",
       "    .dataframe thead th {\n",
       "        text-align: right;\n",
       "    }\n",
       "</style>\n",
       "<table border=\"1\" class=\"dataframe\">\n",
       "  <thead>\n",
       "    <tr style=\"text-align: right;\">\n",
       "      <th></th>\n",
       "      <th>SMILES</th>\n",
       "      <th>Reorg_g</th>\n",
       "      <th>Reorg_ex</th>\n",
       "    </tr>\n",
       "    <tr>\n",
       "      <th>index</th>\n",
       "      <th></th>\n",
       "      <th></th>\n",
       "      <th></th>\n",
       "    </tr>\n",
       "  </thead>\n",
       "  <tbody>\n",
       "    <tr>\n",
       "      <th>train_0</th>\n",
       "      <td>CC[C@H]1CCCCN1C(=O)[C@@H](C)OC(=O)c1c(C)oc(-n2...</td>\n",
       "      <td>0.631486</td>\n",
       "      <td>0.535060</td>\n",
       "    </tr>\n",
       "    <tr>\n",
       "      <th>train_1</th>\n",
       "      <td>O[C@@H](CNC1CC1)CN1CCc2sccc2C1</td>\n",
       "      <td>0.825901</td>\n",
       "      <td>1.116781</td>\n",
       "    </tr>\n",
       "    <tr>\n",
       "      <th>train_2</th>\n",
       "      <td>N#CCCNC(=O)[C@@]1(O)CCSC1</td>\n",
       "      <td>1.463943</td>\n",
       "      <td>0.964848</td>\n",
       "    </tr>\n",
       "    <tr>\n",
       "      <th>train_3</th>\n",
       "      <td>COC[C@H]1CN(c2ccc(OCC[C@@H](C)O)cc2)C(=O)O1</td>\n",
       "      <td>0.166669</td>\n",
       "      <td>0.161458</td>\n",
       "    </tr>\n",
       "    <tr>\n",
       "      <th>train_4</th>\n",
       "      <td>N#Cc1c(-c2ccccc2OCC(N)=O)[nH]c(C(N)=O)c1N</td>\n",
       "      <td>0.313820</td>\n",
       "      <td>0.338862</td>\n",
       "    </tr>\n",
       "    <tr>\n",
       "      <th>...</th>\n",
       "      <td>...</td>\n",
       "      <td>...</td>\n",
       "      <td>...</td>\n",
       "    </tr>\n",
       "    <tr>\n",
       "      <th>train_18152</th>\n",
       "      <td>CC(=O)Nc1ccc2ccc3cccc4ccc1c2c34</td>\n",
       "      <td>0.146917</td>\n",
       "      <td>0.143084</td>\n",
       "    </tr>\n",
       "    <tr>\n",
       "      <th>train_18153</th>\n",
       "      <td>CC(C)(C)c1ccccc1N(c1ccccc1)c1ccc(S(=O)(=O)c2cc...</td>\n",
       "      <td>0.612898</td>\n",
       "      <td>0.500668</td>\n",
       "    </tr>\n",
       "    <tr>\n",
       "      <th>train_18154</th>\n",
       "      <td>CN(C)c1ccc(C(=O)Nc2ccccc2)cc1</td>\n",
       "      <td>1.218777</td>\n",
       "      <td>1.048954</td>\n",
       "    </tr>\n",
       "    <tr>\n",
       "      <th>train_18155</th>\n",
       "      <td>c1ccc(N(c2ccccc2)c2ccc(-c3ncc(-c4ccc(-c5cnc(-c...</td>\n",
       "      <td>0.145292</td>\n",
       "      <td>0.182589</td>\n",
       "    </tr>\n",
       "    <tr>\n",
       "      <th>train_18156</th>\n",
       "      <td>COCCC1(CCOC)c2cc(-c3ccc(OC)cc3)ccc2-c2ccc(-c3c...</td>\n",
       "      <td>0.252465</td>\n",
       "      <td>0.306627</td>\n",
       "    </tr>\n",
       "  </tbody>\n",
       "</table>\n",
       "<p>18157 rows × 3 columns</p>\n",
       "</div>"
      ],
      "text/plain": [
       "                                                        SMILES   Reorg_g  \\\n",
       "index                                                                      \n",
       "train_0      CC[C@H]1CCCCN1C(=O)[C@@H](C)OC(=O)c1c(C)oc(-n2...  0.631486   \n",
       "train_1                         O[C@@H](CNC1CC1)CN1CCc2sccc2C1  0.825901   \n",
       "train_2                              N#CCCNC(=O)[C@@]1(O)CCSC1  1.463943   \n",
       "train_3            COC[C@H]1CN(c2ccc(OCC[C@@H](C)O)cc2)C(=O)O1  0.166669   \n",
       "train_4              N#Cc1c(-c2ccccc2OCC(N)=O)[nH]c(C(N)=O)c1N  0.313820   \n",
       "...                                                        ...       ...   \n",
       "train_18152                    CC(=O)Nc1ccc2ccc3cccc4ccc1c2c34  0.146917   \n",
       "train_18153  CC(C)(C)c1ccccc1N(c1ccccc1)c1ccc(S(=O)(=O)c2cc...  0.612898   \n",
       "train_18154                      CN(C)c1ccc(C(=O)Nc2ccccc2)cc1  1.218777   \n",
       "train_18155  c1ccc(N(c2ccccc2)c2ccc(-c3ncc(-c4ccc(-c5cnc(-c...  0.145292   \n",
       "train_18156  COCCC1(CCOC)c2cc(-c3ccc(OC)cc3)ccc2-c2ccc(-c3c...  0.252465   \n",
       "\n",
       "             Reorg_ex  \n",
       "index                  \n",
       "train_0      0.535060  \n",
       "train_1      1.116781  \n",
       "train_2      0.964848  \n",
       "train_3      0.161458  \n",
       "train_4      0.338862  \n",
       "...               ...  \n",
       "train_18152  0.143084  \n",
       "train_18153  0.500668  \n",
       "train_18154  1.048954  \n",
       "train_18155  0.182589  \n",
       "train_18156  0.306627  \n",
       "\n",
       "[18157 rows x 3 columns]"
      ]
     },
     "execution_count": 11,
     "metadata": {},
     "output_type": "execute_result"
    }
   ],
   "source": [
    "smile_csv"
   ]
  },
  {
   "cell_type": "code",
   "execution_count": 34,
   "id": "b0121063",
   "metadata": {},
   "outputs": [
    {
     "data": {
      "text/plain": [
       "0.631486"
      ]
     },
     "execution_count": 34,
     "metadata": {},
     "output_type": "execute_result"
    }
   ],
   "source": [
    "smile_csv.iloc[0].Reorg_g"
   ]
  },
  {
   "cell_type": "code",
   "execution_count": 2,
   "id": "3a7f0d1b",
   "metadata": {},
   "outputs": [],
   "source": [
    "train_data_dirs = '../data/mol_files/train_set'\n",
    "test_data_dirs = '../data/mol_files/test_set'"
   ]
  },
  {
   "cell_type": "code",
   "execution_count": 4,
   "id": "4e181739",
   "metadata": {},
   "outputs": [],
   "source": [
    "train_data = glob(train_data_dirs+'/*.mol')"
   ]
  },
  {
   "cell_type": "code",
   "execution_count": 7,
   "id": "56e6378d",
   "metadata": {},
   "outputs": [],
   "source": [
    "test_data = glob(test_data_dirs+'/*.mol')"
   ]
  },
  {
   "cell_type": "code",
   "execution_count": 16,
   "id": "2852cf88",
   "metadata": {},
   "outputs": [],
   "source": [
    "atomic_number = []\n",
    "\n",
    "for m_dir in train_data:\n",
    "    m = Chem.MolFromMolFile(m_dir)\n",
    "    \n",
    "    for atom in m.GetAtoms():\n",
    "        atomic_number.append(atom.GetAtomicNum())"
   ]
  },
  {
   "cell_type": "code",
   "execution_count": 17,
   "id": "975af2e9",
   "metadata": {},
   "outputs": [
    {
     "data": {
      "text/plain": [
       "{5, 6, 7, 8, 9, 14, 15, 16, 17, 35, 53}"
      ]
     },
     "execution_count": 17,
     "metadata": {},
     "output_type": "execute_result"
    }
   ],
   "source": [
    "set(atomic_number)"
   ]
  },
  {
   "cell_type": "code",
   "execution_count": 20,
   "id": "b7972034",
   "metadata": {},
   "outputs": [],
   "source": [
    "bond_type = []\n",
    "\n",
    "for m_dir in train_data:\n",
    "    m = Chem.MolFromMolFile(m_dir)\n",
    "    \n",
    "    for bond in m.GetBonds():\n",
    "        b = bond.GetBondType()\n",
    "        \n",
    "        bond_type.append(b)"
   ]
  },
  {
   "cell_type": "code",
   "execution_count": 21,
   "id": "27280837",
   "metadata": {},
   "outputs": [
    {
     "data": {
      "text/plain": [
       "{rdkit.Chem.rdchem.BondType.SINGLE,\n",
       " rdkit.Chem.rdchem.BondType.DOUBLE,\n",
       " rdkit.Chem.rdchem.BondType.TRIPLE,\n",
       " rdkit.Chem.rdchem.BondType.AROMATIC}"
      ]
     },
     "execution_count": 21,
     "metadata": {},
     "output_type": "execute_result"
    }
   ],
   "source": [
    "set(bond_type)"
   ]
  },
  {
   "cell_type": "code",
   "execution_count": 28,
   "id": "50111a42",
   "metadata": {},
   "outputs": [],
   "source": [
    "types = {'H': 0, 'B': 1, 'C': 2, 'N': 3, 'O': 4, 'F': 5, 'Si': 6, 'P': 7, 'S': 8, 'Cl': 9, 'Br': 10, 'I': 11}\n",
    "bonds = {BT.SINGLE: 0, BT.DOUBLE: 1, BT.TRIPLE: 2, BT.AROMATIC: 3}"
   ]
  },
  {
   "cell_type": "code",
   "execution_count": 47,
   "id": "5b569f13",
   "metadata": {},
   "outputs": [],
   "source": [
    "dataset = []\n",
    "\n",
    "for m_dir in train_data:\n",
    "    temp = m_dir.split('/')[-1].split('_')\n",
    "    index = int(temp[1])\n",
    "    if 'g' in temp[-1]:\n",
    "        target = smile_csv.iloc[index].Reorg_g\n",
    "    else:\n",
    "        target = smile_csv.iloc[index].Reorg_ex\n",
    "        \n",
    "    m = Chem.MolFromMolFile(m_dir)\n",
    "    \n",
    "    N = m.GetNumAtoms()\n",
    "    name = m.GetProp('_Name')\n",
    "    \n",
    "    conf = m.GetConformer()\n",
    "    pos = conf.GetPositions()\n",
    "    pos = torch.tensor(pos, dtype=torch.float)\n",
    "    \n",
    "    type_idx = []\n",
    "    atomic_number = []\n",
    "    aromatic = []\n",
    "    sp = []\n",
    "    sp2 = []\n",
    "    sp3 = []\n",
    "    num_hs = []\n",
    "    for atom in m.GetAtoms():\n",
    "        type_idx.append(types[atom.GetSymbol()])\n",
    "        atomic_number.append(atom.GetAtomicNum())\n",
    "        aromatic.append(1 if atom.GetIsAromatic() else 0)\n",
    "        hybridization = atom.GetHybridization()\n",
    "        sp.append(1 if hybridization == HybridizationType.SP else 0)\n",
    "        sp2.append(1 if hybridization == HybridizationType.SP2 else 0)\n",
    "        sp3.append(1 if hybridization == HybridizationType.SP3 else 0)\n",
    "    \n",
    "    z = torch.tensor(atomic_number, dtype=torch.long)\n",
    "    \n",
    "    \n",
    "    row, col, edge_type = [], [], []\n",
    "\n",
    "    for bond in m.GetBonds():\n",
    "        start, end = bond.GetBeginAtomIdx(), bond.GetEndAtomIdx()\n",
    "        row += [start, end]\n",
    "        col += [end, start]\n",
    "        edge_type += 2 * [bonds[bond.GetBondType()]]\n",
    "        \n",
    "    edge_index = torch.tensor([row, col], dtype=torch.long)\n",
    "    edge_type = torch.tensor(edge_type, dtype=torch.long)\n",
    "    edge_attr = F.one_hot(edge_type,\n",
    "                          num_classes=len(bonds)).to(torch.float)\n",
    "    \n",
    "    perm = (edge_index[0] * N + edge_index[1]).argsort()\n",
    "    edge_index = edge_index[:, perm]\n",
    "    edge_type = edge_type[perm]\n",
    "    edge_attr = edge_attr[perm]\n",
    "    \n",
    "    row, col = edge_index\n",
    "    hs = (z == 1).to(torch.float)\n",
    "    num_hs = scatter(hs[row], col, dim_size=N).tolist()\n",
    "    \n",
    "    x1 = F.one_hot(torch.tensor(type_idx), num_classes=len(types))\n",
    "    x2 = torch.tensor([atomic_number, aromatic, sp, sp2, sp3, num_hs],\n",
    "                      dtype=torch.float).t().contiguous()\n",
    "    x = torch.cat([x1.to(torch.float), x2], dim=-1)\n",
    "    \n",
    "    data = Data(x=x, z=z, pos=pos, edge_index=edge_index,\n",
    "                        edge_attr=edge_attr, y=target, idx=index)\n",
    "    \n",
    "    dataset.append(data)"
   ]
  },
  {
   "cell_type": "code",
   "execution_count": 48,
   "id": "86bf3843",
   "metadata": {},
   "outputs": [],
   "source": [
    "loader = DataLoader(dataset, batch_size=1)"
   ]
  },
  {
   "cell_type": "code",
   "execution_count": 53,
   "id": "8d0fbbfb",
   "metadata": {},
   "outputs": [],
   "source": [
    "from torch_geometric.nn import DimeNet"
   ]
  },
  {
   "cell_type": "code",
   "execution_count": 54,
   "id": "06d15e5c",
   "metadata": {},
   "outputs": [
    {
     "ename": "RuntimeError",
     "evalue": "a leaf Variable that requires grad is being used in an in-place operation.",
     "output_type": "error",
     "traceback": [
      "\u001b[0;31m---------------------------------------------------------------------------\u001b[0m",
      "\u001b[0;31mRuntimeError\u001b[0m                              Traceback (most recent call last)",
      "\u001b[0;32m/tmp/ipykernel_329/1746810301.py\u001b[0m in \u001b[0;36m<module>\u001b[0;34m\u001b[0m\n\u001b[0;32m----> 1\u001b[0;31m \u001b[0mmodel\u001b[0m \u001b[0;34m=\u001b[0m \u001b[0mDimeNet\u001b[0m\u001b[0;34m(\u001b[0m\u001b[0mhidden_channels\u001b[0m\u001b[0;34m=\u001b[0m\u001b[0;36m128\u001b[0m\u001b[0;34m,\u001b[0m \u001b[0mout_channels\u001b[0m\u001b[0;34m=\u001b[0m\u001b[0;36m1\u001b[0m\u001b[0;34m,\u001b[0m \u001b[0mnum_blocks\u001b[0m\u001b[0;34m=\u001b[0m\u001b[0;36m3\u001b[0m\u001b[0;34m,\u001b[0m \u001b[0mnum_bilinear\u001b[0m\u001b[0;34m=\u001b[0m\u001b[0;36m3\u001b[0m\u001b[0;34m,\u001b[0m \u001b[0mnum_spherical\u001b[0m\u001b[0;34m=\u001b[0m\u001b[0;36m3\u001b[0m\u001b[0;34m,\u001b[0m \u001b[0mnum_radial\u001b[0m\u001b[0;34m=\u001b[0m\u001b[0;36m3\u001b[0m\u001b[0;34m)\u001b[0m\u001b[0;34m\u001b[0m\u001b[0;34m\u001b[0m\u001b[0m\n\u001b[0m",
      "\u001b[0;32m/opt/conda/lib/python3.8/site-packages/torch_geometric/nn/models/dimenet.py\u001b[0m in \u001b[0;36m__init__\u001b[0;34m(self, hidden_channels, out_channels, num_blocks, num_bilinear, num_spherical, num_radial, cutoff, max_num_neighbors, envelope_exponent, num_before_skip, num_after_skip, num_output_layers, act)\u001b[0m\n\u001b[1;32m    297\u001b[0m         \u001b[0mself\u001b[0m\u001b[0;34m.\u001b[0m\u001b[0mnum_blocks\u001b[0m \u001b[0;34m=\u001b[0m \u001b[0mnum_blocks\u001b[0m\u001b[0;34m\u001b[0m\u001b[0;34m\u001b[0m\u001b[0m\n\u001b[1;32m    298\u001b[0m \u001b[0;34m\u001b[0m\u001b[0m\n\u001b[0;32m--> 299\u001b[0;31m         \u001b[0mself\u001b[0m\u001b[0;34m.\u001b[0m\u001b[0mrbf\u001b[0m \u001b[0;34m=\u001b[0m \u001b[0mBesselBasisLayer\u001b[0m\u001b[0;34m(\u001b[0m\u001b[0mnum_radial\u001b[0m\u001b[0;34m,\u001b[0m \u001b[0mcutoff\u001b[0m\u001b[0;34m,\u001b[0m \u001b[0menvelope_exponent\u001b[0m\u001b[0;34m)\u001b[0m\u001b[0;34m\u001b[0m\u001b[0;34m\u001b[0m\u001b[0m\n\u001b[0m\u001b[1;32m    300\u001b[0m         self.sbf = SphericalBasisLayer(num_spherical, num_radial, cutoff,\n\u001b[1;32m    301\u001b[0m                                        envelope_exponent)\n",
      "\u001b[0;32m/opt/conda/lib/python3.8/site-packages/torch_geometric/nn/models/dimenet.py\u001b[0m in \u001b[0;36m__init__\u001b[0;34m(self, num_radial, cutoff, envelope_exponent)\u001b[0m\n\u001b[1;32m     57\u001b[0m         \u001b[0mself\u001b[0m\u001b[0;34m.\u001b[0m\u001b[0mfreq\u001b[0m \u001b[0;34m=\u001b[0m \u001b[0mtorch\u001b[0m\u001b[0;34m.\u001b[0m\u001b[0mnn\u001b[0m\u001b[0;34m.\u001b[0m\u001b[0mParameter\u001b[0m\u001b[0;34m(\u001b[0m\u001b[0mtorch\u001b[0m\u001b[0;34m.\u001b[0m\u001b[0mTensor\u001b[0m\u001b[0;34m(\u001b[0m\u001b[0mnum_radial\u001b[0m\u001b[0;34m)\u001b[0m\u001b[0;34m)\u001b[0m\u001b[0;34m\u001b[0m\u001b[0;34m\u001b[0m\u001b[0m\n\u001b[1;32m     58\u001b[0m \u001b[0;34m\u001b[0m\u001b[0m\n\u001b[0;32m---> 59\u001b[0;31m         \u001b[0mself\u001b[0m\u001b[0;34m.\u001b[0m\u001b[0mreset_parameters\u001b[0m\u001b[0;34m(\u001b[0m\u001b[0;34m)\u001b[0m\u001b[0;34m\u001b[0m\u001b[0;34m\u001b[0m\u001b[0m\n\u001b[0m\u001b[1;32m     60\u001b[0m \u001b[0;34m\u001b[0m\u001b[0m\n\u001b[1;32m     61\u001b[0m     \u001b[0;32mdef\u001b[0m \u001b[0mreset_parameters\u001b[0m\u001b[0;34m(\u001b[0m\u001b[0mself\u001b[0m\u001b[0;34m)\u001b[0m\u001b[0;34m:\u001b[0m\u001b[0;34m\u001b[0m\u001b[0;34m\u001b[0m\u001b[0m\n",
      "\u001b[0;32m/opt/conda/lib/python3.8/site-packages/torch_geometric/nn/models/dimenet.py\u001b[0m in \u001b[0;36mreset_parameters\u001b[0;34m(self)\u001b[0m\n\u001b[1;32m     60\u001b[0m \u001b[0;34m\u001b[0m\u001b[0m\n\u001b[1;32m     61\u001b[0m     \u001b[0;32mdef\u001b[0m \u001b[0mreset_parameters\u001b[0m\u001b[0;34m(\u001b[0m\u001b[0mself\u001b[0m\u001b[0;34m)\u001b[0m\u001b[0;34m:\u001b[0m\u001b[0;34m\u001b[0m\u001b[0;34m\u001b[0m\u001b[0m\n\u001b[0;32m---> 62\u001b[0;31m         \u001b[0mtorch\u001b[0m\u001b[0;34m.\u001b[0m\u001b[0marange\u001b[0m\u001b[0;34m(\u001b[0m\u001b[0;36m1\u001b[0m\u001b[0;34m,\u001b[0m \u001b[0mself\u001b[0m\u001b[0;34m.\u001b[0m\u001b[0mfreq\u001b[0m\u001b[0;34m.\u001b[0m\u001b[0mnumel\u001b[0m\u001b[0;34m(\u001b[0m\u001b[0;34m)\u001b[0m \u001b[0;34m+\u001b[0m \u001b[0;36m1\u001b[0m\u001b[0;34m,\u001b[0m \u001b[0mout\u001b[0m\u001b[0;34m=\u001b[0m\u001b[0mself\u001b[0m\u001b[0;34m.\u001b[0m\u001b[0mfreq\u001b[0m\u001b[0;34m)\u001b[0m\u001b[0;34m.\u001b[0m\u001b[0mmul_\u001b[0m\u001b[0;34m(\u001b[0m\u001b[0mPI\u001b[0m\u001b[0;34m)\u001b[0m\u001b[0;34m\u001b[0m\u001b[0;34m\u001b[0m\u001b[0m\n\u001b[0m\u001b[1;32m     63\u001b[0m \u001b[0;34m\u001b[0m\u001b[0m\n\u001b[1;32m     64\u001b[0m     \u001b[0;32mdef\u001b[0m \u001b[0mforward\u001b[0m\u001b[0;34m(\u001b[0m\u001b[0mself\u001b[0m\u001b[0;34m,\u001b[0m \u001b[0mdist\u001b[0m\u001b[0;34m)\u001b[0m\u001b[0;34m:\u001b[0m\u001b[0;34m\u001b[0m\u001b[0;34m\u001b[0m\u001b[0m\n",
      "\u001b[0;31mRuntimeError\u001b[0m: a leaf Variable that requires grad is being used in an in-place operation."
     ]
    }
   ],
   "source": [
    "model = DimeNet(hidden_channels=128, out_channels=1, num_blocks=3, num_bilinear=3, num_spherical=3, num_radial=3)"
   ]
  },
  {
   "cell_type": "code",
   "execution_count": null,
   "id": "b9829b51",
   "metadata": {},
   "outputs": [],
   "source": []
  }
 ],
 "metadata": {
  "kernelspec": {
   "display_name": "Python 3 (ipykernel)",
   "language": "python",
   "name": "python3"
  },
  "language_info": {
   "codemirror_mode": {
    "name": "ipython",
    "version": 3
   },
   "file_extension": ".py",
   "mimetype": "text/x-python",
   "name": "python",
   "nbconvert_exporter": "python",
   "pygments_lexer": "ipython3",
   "version": "3.8.12"
  }
 },
 "nbformat": 4,
 "nbformat_minor": 5
}
