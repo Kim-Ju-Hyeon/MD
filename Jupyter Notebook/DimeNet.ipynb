{
 "cells": [
  {
   "cell_type": "code",
   "execution_count": 6,
   "id": "994a6f58",
   "metadata": {},
   "outputs": [],
   "source": [
    "import sys\n",
    "\n",
    "sys.path.append('../')"
   ]
  },
  {
   "cell_type": "code",
   "execution_count": 11,
   "id": "2c76d717",
   "metadata": {},
   "outputs": [],
   "source": [
    "# import matplotlib.pyplot as plt\n",
    "import numpy as np\n",
    "import torch\n",
    "import pandas as pd\n",
    "\n",
    "import os\n",
    "from glob import glob, escape\n",
    "import torch.nn as nn\n",
    "from torch.nn import functional as F\n",
    "\n",
    "import pickle\n",
    "import yaml\n",
    "from easydict import EasyDict as edict"
   ]
  },
  {
   "cell_type": "code",
   "execution_count": 12,
   "id": "cd518702",
   "metadata": {},
   "outputs": [],
   "source": [
    "from models.model import DimeNet"
   ]
  },
  {
   "cell_type": "code",
   "execution_count": 13,
   "id": "64bad6b2",
   "metadata": {},
   "outputs": [],
   "source": [
    "from dataset.dataset_loader import get_dataset"
   ]
  },
  {
   "cell_type": "code",
   "execution_count": 14,
   "id": "ae8c77c8",
   "metadata": {},
   "outputs": [],
   "source": [
    "config_file = glob('../config/config.yaml')[0]\n",
    "config = edict(yaml.load(open(config_file, 'r'), Loader=yaml.FullLoader))"
   ]
  },
  {
   "cell_type": "code",
   "execution_count": 15,
   "id": "de87f41d",
   "metadata": {},
   "outputs": [],
   "source": [
    "dimenet = DimeNet(\n",
    "            config.model\n",
    "        )"
   ]
  },
  {
   "cell_type": "code",
   "execution_count": 16,
   "id": "8b365b67",
   "metadata": {},
   "outputs": [],
   "source": [
    "train, valid, test = get_dataset('../data')"
   ]
  },
  {
   "cell_type": "code",
   "execution_count": 17,
   "id": "5fb9dd17",
   "metadata": {},
   "outputs": [],
   "source": [
    "from torch_geometric.loader import DataLoader"
   ]
  },
  {
   "cell_type": "code",
   "execution_count": 39,
   "id": "1cfb926f",
   "metadata": {},
   "outputs": [],
   "source": [
    "loader = DataLoader(test, batch_size=1)"
   ]
  },
  {
   "cell_type": "code",
   "execution_count": 40,
   "id": "b4bf3787",
   "metadata": {},
   "outputs": [],
   "source": [
    "inpt = next(iter(loader))"
   ]
  },
  {
   "cell_type": "code",
   "execution_count": 41,
   "id": "43dd8b7a",
   "metadata": {},
   "outputs": [
    {
     "data": {
      "text/plain": [
       "DataBatch(x=[26, 18], edge_index=[2, 60], edge_attr=[60, 4], y=[1], pos=[26, 3], z=[26], idx=[1], state=[1], batch=[26], ptr=[2])"
      ]
     },
     "execution_count": 41,
     "metadata": {},
     "output_type": "execute_result"
    }
   ],
   "source": [
    "inpt"
   ]
  },
  {
   "cell_type": "code",
   "execution_count": 42,
   "id": "66b582da",
   "metadata": {},
   "outputs": [],
   "source": [
    "out = dimenet(z=inpt.z, pos=inpt.pos, batch=inpt.batch)"
   ]
  },
  {
   "cell_type": "code",
   "execution_count": 43,
   "id": "fa3c8c46",
   "metadata": {},
   "outputs": [],
   "source": [
    "submission = pd.read_csv(\"../data/sample_submission.csv\", index_col=0)"
   ]
  },
  {
   "cell_type": "code",
   "execution_count": 59,
   "id": "3be3bcb7",
   "metadata": {},
   "outputs": [
    {
     "data": {
      "text/plain": [
       "array([[1.]], dtype=float32)"
      ]
     },
     "execution_count": 59,
     "metadata": {},
     "output_type": "execute_result"
    }
   ],
   "source": [
    "out.cpu().detach().numpy() + 1"
   ]
  },
  {
   "cell_type": "code",
   "execution_count": 72,
   "id": "f74c4683",
   "metadata": {},
   "outputs": [],
   "source": [
    "if inpt.state[0] == 'g':\n",
    "    submission.iloc[int(inpt.idx[0])]['Reorg_g'] = out.cpu().detach().numpy() + 0.01\n",
    "else:\n",
    "    submission.iloc[int(inpt.idx[0])]['Reorg_ex'] = out.cpu().detach().numpy()"
   ]
  },
  {
   "cell_type": "code",
   "execution_count": 73,
   "id": "9e81c632",
   "metadata": {},
   "outputs": [
    {
     "data": {
      "text/plain": [
       "Reorg_g     0.01\n",
       "Reorg_ex    0.00\n",
       "Name: test_182, dtype: float64"
      ]
     },
     "execution_count": 73,
     "metadata": {},
     "output_type": "execute_result"
    }
   ],
   "source": [
    "submission.iloc[182]"
   ]
  },
  {
   "cell_type": "code",
   "execution_count": 67,
   "id": "55c2553f",
   "metadata": {},
   "outputs": [
    {
     "data": {
      "text/plain": [
       "Reorg_g     int64\n",
       "Reorg_ex    int64\n",
       "dtype: object"
      ]
     },
     "execution_count": 67,
     "metadata": {},
     "output_type": "execute_result"
    }
   ],
   "source": [
    "submission.dtypes"
   ]
  },
  {
   "cell_type": "code",
   "execution_count": 71,
   "id": "fc2aaafd",
   "metadata": {},
   "outputs": [],
   "source": [
    "submission = submission.astype('float')"
   ]
  },
  {
   "cell_type": "code",
   "execution_count": 63,
   "id": "8ca73c48",
   "metadata": {},
   "outputs": [],
   "source": [
    "submission.to_csv('./submission.csv')"
   ]
  },
  {
   "cell_type": "code",
   "execution_count": null,
   "id": "05d4f210",
   "metadata": {},
   "outputs": [],
   "source": []
  }
 ],
 "metadata": {
  "kernelspec": {
   "display_name": "Python 3 (ipykernel)",
   "language": "python",
   "name": "python3"
  },
  "language_info": {
   "codemirror_mode": {
    "name": "ipython",
    "version": 3
   },
   "file_extension": ".py",
   "mimetype": "text/x-python",
   "name": "python",
   "nbconvert_exporter": "python",
   "pygments_lexer": "ipython3",
   "version": "3.8.12"
  }
 },
 "nbformat": 4,
 "nbformat_minor": 5
}
