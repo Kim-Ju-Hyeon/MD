{
 "cells": [
  {
   "cell_type": "code",
   "execution_count": 1,
   "id": "7e86e0d7",
   "metadata": {},
   "outputs": [],
   "source": [
    "import os"
   ]
  },
  {
   "cell_type": "code",
   "execution_count": 2,
   "id": "76760bae",
   "metadata": {},
   "outputs": [],
   "source": [
    "import numpy as np\n",
    "import pandas as pd\n",
    "from rdkit import Chem\n",
    "from rdkit.Chem.rdchem import RWMol"
   ]
  },
  {
   "cell_type": "code",
   "execution_count": 3,
   "id": "d07ee33c",
   "metadata": {},
   "outputs": [],
   "source": [
    "smile_csv = pd.read_csv('../data/train_set.ReorgE.csv', index_col=0)"
   ]
  },
  {
   "cell_type": "code",
   "execution_count": 4,
   "id": "77fab8b8",
   "metadata": {},
   "outputs": [],
   "source": [
    "m1 = Chem.MolFromSmiles(smile_csv.iloc[0]['SMILES'])"
   ]
  },
  {
   "cell_type": "code",
   "execution_count": 5,
   "id": "c006f12d",
   "metadata": {},
   "outputs": [
    {
     "data": {
      "text/plain": [
       "<rdkit.Chem.rdchem.Mol at 0x7f6231eabac0>"
      ]
     },
     "execution_count": 5,
     "metadata": {},
     "output_type": "execute_result"
    }
   ],
   "source": [
    "m1"
   ]
  },
  {
   "cell_type": "code",
   "execution_count": 6,
   "id": "601467ce",
   "metadata": {},
   "outputs": [],
   "source": [
    "atoms_info = [ (atom.GetIdx(), atom.GetAtomicNum(), atom.GetSymbol()) for atom in m1.GetAtoms()]\n",
    "bonds_info = [(bond.GetBeginAtomIdx(), bond.GetEndAtomIdx(), bond.GetBondType(), bond.GetBondTypeAsDouble()) for bond in m1.GetBonds()]"
   ]
  },
  {
   "cell_type": "code",
   "execution_count": 7,
   "id": "d8a3a209",
   "metadata": {},
   "outputs": [
    {
     "data": {
      "text/plain": [
       "[(0, 6, 'C'),\n",
       " (1, 6, 'C'),\n",
       " (2, 6, 'C'),\n",
       " (3, 6, 'C'),\n",
       " (4, 6, 'C'),\n",
       " (5, 6, 'C'),\n",
       " (6, 6, 'C'),\n",
       " (7, 7, 'N'),\n",
       " (8, 6, 'C'),\n",
       " (9, 8, 'O'),\n",
       " (10, 6, 'C'),\n",
       " (11, 6, 'C'),\n",
       " (12, 8, 'O'),\n",
       " (13, 6, 'C'),\n",
       " (14, 8, 'O'),\n",
       " (15, 6, 'C'),\n",
       " (16, 6, 'C'),\n",
       " (17, 6, 'C'),\n",
       " (18, 8, 'O'),\n",
       " (19, 6, 'C'),\n",
       " (20, 7, 'N'),\n",
       " (21, 6, 'C'),\n",
       " (22, 6, 'C'),\n",
       " (23, 6, 'C'),\n",
       " (24, 6, 'C'),\n",
       " (25, 6, 'C'),\n",
       " (26, 6, 'C'),\n",
       " (27, 7, 'N')]"
      ]
     },
     "execution_count": 7,
     "metadata": {},
     "output_type": "execute_result"
    }
   ],
   "source": [
    "atoms_info"
   ]
  },
  {
   "cell_type": "code",
   "execution_count": 8,
   "id": "d3ea8ecc",
   "metadata": {},
   "outputs": [
    {
     "data": {
      "text/plain": [
       "[(0, 1, rdkit.Chem.rdchem.BondType.SINGLE, 1.0),\n",
       " (1, 2, rdkit.Chem.rdchem.BondType.SINGLE, 1.0),\n",
       " (2, 3, rdkit.Chem.rdchem.BondType.SINGLE, 1.0),\n",
       " (3, 4, rdkit.Chem.rdchem.BondType.SINGLE, 1.0),\n",
       " (4, 5, rdkit.Chem.rdchem.BondType.SINGLE, 1.0),\n",
       " (5, 6, rdkit.Chem.rdchem.BondType.SINGLE, 1.0),\n",
       " (6, 7, rdkit.Chem.rdchem.BondType.SINGLE, 1.0),\n",
       " (7, 8, rdkit.Chem.rdchem.BondType.SINGLE, 1.0),\n",
       " (8, 9, rdkit.Chem.rdchem.BondType.DOUBLE, 2.0),\n",
       " (8, 10, rdkit.Chem.rdchem.BondType.SINGLE, 1.0),\n",
       " (10, 11, rdkit.Chem.rdchem.BondType.SINGLE, 1.0),\n",
       " (10, 12, rdkit.Chem.rdchem.BondType.SINGLE, 1.0),\n",
       " (12, 13, rdkit.Chem.rdchem.BondType.SINGLE, 1.0),\n",
       " (13, 14, rdkit.Chem.rdchem.BondType.DOUBLE, 2.0),\n",
       " (13, 15, rdkit.Chem.rdchem.BondType.SINGLE, 1.0),\n",
       " (15, 16, rdkit.Chem.rdchem.BondType.AROMATIC, 1.5),\n",
       " (16, 17, rdkit.Chem.rdchem.BondType.SINGLE, 1.0),\n",
       " (16, 18, rdkit.Chem.rdchem.BondType.AROMATIC, 1.5),\n",
       " (18, 19, rdkit.Chem.rdchem.BondType.AROMATIC, 1.5),\n",
       " (19, 20, rdkit.Chem.rdchem.BondType.SINGLE, 1.0),\n",
       " (20, 21, rdkit.Chem.rdchem.BondType.AROMATIC, 1.5),\n",
       " (21, 22, rdkit.Chem.rdchem.BondType.AROMATIC, 1.5),\n",
       " (22, 23, rdkit.Chem.rdchem.BondType.AROMATIC, 1.5),\n",
       " (23, 24, rdkit.Chem.rdchem.BondType.AROMATIC, 1.5),\n",
       " (19, 25, rdkit.Chem.rdchem.BondType.AROMATIC, 1.5),\n",
       " (25, 26, rdkit.Chem.rdchem.BondType.SINGLE, 1.0),\n",
       " (26, 27, rdkit.Chem.rdchem.BondType.TRIPLE, 3.0),\n",
       " (7, 2, rdkit.Chem.rdchem.BondType.SINGLE, 1.0),\n",
       " (25, 15, rdkit.Chem.rdchem.BondType.AROMATIC, 1.5),\n",
       " (24, 20, rdkit.Chem.rdchem.BondType.AROMATIC, 1.5)]"
      ]
     },
     "execution_count": 8,
     "metadata": {},
     "output_type": "execute_result"
    }
   ],
   "source": [
    "bonds_info"
   ]
  },
  {
   "cell_type": "code",
   "execution_count": 9,
   "id": "1bb95f28",
   "metadata": {},
   "outputs": [],
   "source": [
    "import torch\n",
    "\n",
    "from torch_geometric.datasets import QM9\n",
    "from torch_geometric.loader import DataLoader\n",
    "from torch_geometric.nn import DimeNet"
   ]
  },
  {
   "cell_type": "code",
   "execution_count": 10,
   "id": "eb44327d",
   "metadata": {},
   "outputs": [],
   "source": [
    "Model = DimeNet"
   ]
  },
  {
   "cell_type": "code",
   "execution_count": 11,
   "id": "07627e2c",
   "metadata": {},
   "outputs": [],
   "source": [
    "path = '../data/QM9'"
   ]
  },
  {
   "cell_type": "code",
   "execution_count": 12,
   "id": "89e7599f",
   "metadata": {},
   "outputs": [],
   "source": [
    "dataset = QM9(path)"
   ]
  },
  {
   "cell_type": "code",
   "execution_count": 13,
   "id": "65f59991",
   "metadata": {},
   "outputs": [],
   "source": [
    "loader = DataLoader(dataset, batch_size=1)"
   ]
  },
  {
   "cell_type": "code",
   "execution_count": 14,
   "id": "29116ebd",
   "metadata": {},
   "outputs": [],
   "source": [
    "x = next(iter(loader))"
   ]
  },
  {
   "cell_type": "code",
   "execution_count": 15,
   "id": "c03c6212",
   "metadata": {},
   "outputs": [
    {
     "data": {
      "text/plain": [
       "DataBatch(x=[5, 11], edge_index=[2, 8], edge_attr=[8, 4], y=[1, 19], pos=[5, 3], z=[5], name=[1], idx=[1], batch=[5], ptr=[2])"
      ]
     },
     "execution_count": 15,
     "metadata": {},
     "output_type": "execute_result"
    }
   ],
   "source": [
    "x"
   ]
  },
  {
   "cell_type": "code",
   "execution_count": 16,
   "id": "ac17d00d",
   "metadata": {},
   "outputs": [
    {
     "data": {
      "text/plain": [
       "tensor([[0., 1., 0., 0., 0., 6., 0., 0., 0., 0., 4.],\n",
       "        [1., 0., 0., 0., 0., 1., 0., 0., 0., 0., 0.],\n",
       "        [1., 0., 0., 0., 0., 1., 0., 0., 0., 0., 0.],\n",
       "        [1., 0., 0., 0., 0., 1., 0., 0., 0., 0., 0.],\n",
       "        [1., 0., 0., 0., 0., 1., 0., 0., 0., 0., 0.]])"
      ]
     },
     "execution_count": 16,
     "metadata": {},
     "output_type": "execute_result"
    }
   ],
   "source": [
    "x.x"
   ]
  },
  {
   "cell_type": "code",
   "execution_count": 17,
   "id": "5d1951c2",
   "metadata": {},
   "outputs": [
    {
     "data": {
      "text/plain": [
       "tensor([[0, 0, 0, 0, 1, 2, 3, 4],\n",
       "        [1, 2, 3, 4, 0, 0, 0, 0]])"
      ]
     },
     "execution_count": 17,
     "metadata": {},
     "output_type": "execute_result"
    }
   ],
   "source": [
    "x.edge_index"
   ]
  },
  {
   "cell_type": "code",
   "execution_count": 18,
   "id": "28006843",
   "metadata": {},
   "outputs": [
    {
     "data": {
      "text/plain": [
       "tensor([[1., 0., 0., 0.],\n",
       "        [1., 0., 0., 0.],\n",
       "        [1., 0., 0., 0.],\n",
       "        [1., 0., 0., 0.],\n",
       "        [1., 0., 0., 0.],\n",
       "        [1., 0., 0., 0.],\n",
       "        [1., 0., 0., 0.],\n",
       "        [1., 0., 0., 0.]])"
      ]
     },
     "execution_count": 18,
     "metadata": {},
     "output_type": "execute_result"
    }
   ],
   "source": [
    "x.edge_attr"
   ]
  },
  {
   "cell_type": "code",
   "execution_count": 19,
   "id": "9bc6d907",
   "metadata": {},
   "outputs": [
    {
     "data": {
      "text/plain": [
       "tensor([[    0.0000,    13.2100,   -10.5499,     3.1865,    13.7363,    35.3641,\n",
       "             1.2177, -1101.4878, -1101.4098, -1101.3840, -1102.0229,     6.4690,\n",
       "           -17.1722,   -17.2868,   -17.3897,   -16.1519,   157.7118,   157.7100,\n",
       "           157.7070]])"
      ]
     },
     "execution_count": 19,
     "metadata": {},
     "output_type": "execute_result"
    }
   ],
   "source": [
    "x.y"
   ]
  },
  {
   "cell_type": "code",
   "execution_count": 20,
   "id": "8da34b48",
   "metadata": {},
   "outputs": [
    {
     "data": {
      "text/plain": [
       "tensor([[-1.2700e-02,  1.0858e+00,  8.0000e-03],\n",
       "        [ 2.2000e-03, -6.0000e-03,  2.0000e-03],\n",
       "        [ 1.0117e+00,  1.4638e+00,  3.0000e-04],\n",
       "        [-5.4080e-01,  1.4475e+00, -8.7660e-01],\n",
       "        [-5.2380e-01,  1.4379e+00,  9.0640e-01]])"
      ]
     },
     "execution_count": 20,
     "metadata": {},
     "output_type": "execute_result"
    }
   ],
   "source": [
    "x.pos"
   ]
  },
  {
   "cell_type": "code",
   "execution_count": 21,
   "id": "530a7c74",
   "metadata": {},
   "outputs": [
    {
     "data": {
      "text/plain": [
       "tensor([6, 1, 1, 1, 1])"
      ]
     },
     "execution_count": 21,
     "metadata": {},
     "output_type": "execute_result"
    }
   ],
   "source": [
    "x.z"
   ]
  },
  {
   "cell_type": "code",
   "execution_count": 22,
   "id": "8339fbeb",
   "metadata": {},
   "outputs": [
    {
     "data": {
      "text/plain": [
       "['gdb_1']"
      ]
     },
     "execution_count": 22,
     "metadata": {},
     "output_type": "execute_result"
    }
   ],
   "source": [
    "x.name"
   ]
  },
  {
   "cell_type": "code",
   "execution_count": 23,
   "id": "f853d341",
   "metadata": {},
   "outputs": [
    {
     "data": {
      "text/plain": [
       "tensor([0])"
      ]
     },
     "execution_count": 23,
     "metadata": {},
     "output_type": "execute_result"
    }
   ],
   "source": [
    "x.idx"
   ]
  },
  {
   "cell_type": "code",
   "execution_count": 24,
   "id": "8a703148",
   "metadata": {},
   "outputs": [
    {
     "data": {
      "text/plain": [
       "tensor([0, 0, 0, 0, 0])"
      ]
     },
     "execution_count": 24,
     "metadata": {},
     "output_type": "execute_result"
    }
   ],
   "source": [
    "x.batch"
   ]
  },
  {
   "cell_type": "code",
   "execution_count": 25,
   "id": "be9d60cb",
   "metadata": {},
   "outputs": [
    {
     "data": {
      "text/plain": [
       "tensor([0, 5])"
      ]
     },
     "execution_count": 25,
     "metadata": {},
     "output_type": "execute_result"
    }
   ],
   "source": [
    "x.ptr"
   ]
  },
  {
   "cell_type": "code",
   "execution_count": 26,
   "id": "8481cf0f",
   "metadata": {},
   "outputs": [],
   "source": [
    "qm9 = pd.read_csv('../data/QM9/raw/gdb9.sdf.csv')"
   ]
  },
  {
   "cell_type": "code",
   "execution_count": 27,
   "id": "e3be7db9",
   "metadata": {},
   "outputs": [
    {
     "data": {
      "text/html": [
       "<div>\n",
       "<style scoped>\n",
       "    .dataframe tbody tr th:only-of-type {\n",
       "        vertical-align: middle;\n",
       "    }\n",
       "\n",
       "    .dataframe tbody tr th {\n",
       "        vertical-align: top;\n",
       "    }\n",
       "\n",
       "    .dataframe thead th {\n",
       "        text-align: right;\n",
       "    }\n",
       "</style>\n",
       "<table border=\"1\" class=\"dataframe\">\n",
       "  <thead>\n",
       "    <tr style=\"text-align: right;\">\n",
       "      <th></th>\n",
       "      <th>mol_id</th>\n",
       "      <th>A</th>\n",
       "      <th>B</th>\n",
       "      <th>C</th>\n",
       "      <th>mu</th>\n",
       "      <th>alpha</th>\n",
       "      <th>homo</th>\n",
       "      <th>lumo</th>\n",
       "      <th>gap</th>\n",
       "      <th>r2</th>\n",
       "      <th>zpve</th>\n",
       "      <th>u0</th>\n",
       "      <th>u298</th>\n",
       "      <th>h298</th>\n",
       "      <th>g298</th>\n",
       "      <th>cv</th>\n",
       "      <th>u0_atom</th>\n",
       "      <th>u298_atom</th>\n",
       "      <th>h298_atom</th>\n",
       "      <th>g298_atom</th>\n",
       "    </tr>\n",
       "  </thead>\n",
       "  <tbody>\n",
       "    <tr>\n",
       "      <th>0</th>\n",
       "      <td>gdb_1</td>\n",
       "      <td>157.71180</td>\n",
       "      <td>157.709970</td>\n",
       "      <td>157.706990</td>\n",
       "      <td>0.0000</td>\n",
       "      <td>13.21</td>\n",
       "      <td>-0.3877</td>\n",
       "      <td>0.1171</td>\n",
       "      <td>0.5048</td>\n",
       "      <td>35.3641</td>\n",
       "      <td>0.044749</td>\n",
       "      <td>-40.478930</td>\n",
       "      <td>-40.476062</td>\n",
       "      <td>-40.475117</td>\n",
       "      <td>-40.498597</td>\n",
       "      <td>6.469</td>\n",
       "      <td>-395.999595</td>\n",
       "      <td>-398.643290</td>\n",
       "      <td>-401.014647</td>\n",
       "      <td>-372.471772</td>\n",
       "    </tr>\n",
       "    <tr>\n",
       "      <th>1</th>\n",
       "      <td>gdb_2</td>\n",
       "      <td>293.60975</td>\n",
       "      <td>293.541110</td>\n",
       "      <td>191.393970</td>\n",
       "      <td>1.6256</td>\n",
       "      <td>9.46</td>\n",
       "      <td>-0.2570</td>\n",
       "      <td>0.0829</td>\n",
       "      <td>0.3399</td>\n",
       "      <td>26.1563</td>\n",
       "      <td>0.034358</td>\n",
       "      <td>-56.525887</td>\n",
       "      <td>-56.523026</td>\n",
       "      <td>-56.522082</td>\n",
       "      <td>-56.544961</td>\n",
       "      <td>6.316</td>\n",
       "      <td>-276.861363</td>\n",
       "      <td>-278.620271</td>\n",
       "      <td>-280.399259</td>\n",
       "      <td>-259.338802</td>\n",
       "    </tr>\n",
       "    <tr>\n",
       "      <th>2</th>\n",
       "      <td>gdb_3</td>\n",
       "      <td>799.58812</td>\n",
       "      <td>437.903860</td>\n",
       "      <td>282.945450</td>\n",
       "      <td>1.8511</td>\n",
       "      <td>6.31</td>\n",
       "      <td>-0.2928</td>\n",
       "      <td>0.0687</td>\n",
       "      <td>0.3615</td>\n",
       "      <td>19.0002</td>\n",
       "      <td>0.021375</td>\n",
       "      <td>-76.404702</td>\n",
       "      <td>-76.401867</td>\n",
       "      <td>-76.400922</td>\n",
       "      <td>-76.422349</td>\n",
       "      <td>6.002</td>\n",
       "      <td>-213.087624</td>\n",
       "      <td>-213.974294</td>\n",
       "      <td>-215.159658</td>\n",
       "      <td>-201.407171</td>\n",
       "    </tr>\n",
       "    <tr>\n",
       "      <th>3</th>\n",
       "      <td>gdb_4</td>\n",
       "      <td>0.00000</td>\n",
       "      <td>35.610036</td>\n",
       "      <td>35.610036</td>\n",
       "      <td>0.0000</td>\n",
       "      <td>16.28</td>\n",
       "      <td>-0.2845</td>\n",
       "      <td>0.0506</td>\n",
       "      <td>0.3351</td>\n",
       "      <td>59.5248</td>\n",
       "      <td>0.026841</td>\n",
       "      <td>-77.308427</td>\n",
       "      <td>-77.305527</td>\n",
       "      <td>-77.304583</td>\n",
       "      <td>-77.327429</td>\n",
       "      <td>8.574</td>\n",
       "      <td>-385.501997</td>\n",
       "      <td>-387.237686</td>\n",
       "      <td>-389.016047</td>\n",
       "      <td>-365.800724</td>\n",
       "    </tr>\n",
       "    <tr>\n",
       "      <th>4</th>\n",
       "      <td>gdb_5</td>\n",
       "      <td>0.00000</td>\n",
       "      <td>44.593883</td>\n",
       "      <td>44.593883</td>\n",
       "      <td>2.8937</td>\n",
       "      <td>12.99</td>\n",
       "      <td>-0.3604</td>\n",
       "      <td>0.0191</td>\n",
       "      <td>0.3796</td>\n",
       "      <td>48.7476</td>\n",
       "      <td>0.016601</td>\n",
       "      <td>-93.411888</td>\n",
       "      <td>-93.409370</td>\n",
       "      <td>-93.408425</td>\n",
       "      <td>-93.431246</td>\n",
       "      <td>6.278</td>\n",
       "      <td>-301.820534</td>\n",
       "      <td>-302.906752</td>\n",
       "      <td>-304.091489</td>\n",
       "      <td>-288.720028</td>\n",
       "    </tr>\n",
       "    <tr>\n",
       "      <th>...</th>\n",
       "      <td>...</td>\n",
       "      <td>...</td>\n",
       "      <td>...</td>\n",
       "      <td>...</td>\n",
       "      <td>...</td>\n",
       "      <td>...</td>\n",
       "      <td>...</td>\n",
       "      <td>...</td>\n",
       "      <td>...</td>\n",
       "      <td>...</td>\n",
       "      <td>...</td>\n",
       "      <td>...</td>\n",
       "      <td>...</td>\n",
       "      <td>...</td>\n",
       "      <td>...</td>\n",
       "      <td>...</td>\n",
       "      <td>...</td>\n",
       "      <td>...</td>\n",
       "      <td>...</td>\n",
       "      <td>...</td>\n",
       "    </tr>\n",
       "    <tr>\n",
       "      <th>133880</th>\n",
       "      <td>gdb_133881</td>\n",
       "      <td>3.59483</td>\n",
       "      <td>2.198990</td>\n",
       "      <td>1.904230</td>\n",
       "      <td>1.6637</td>\n",
       "      <td>69.37</td>\n",
       "      <td>-0.2254</td>\n",
       "      <td>0.0588</td>\n",
       "      <td>0.2842</td>\n",
       "      <td>760.7472</td>\n",
       "      <td>0.127406</td>\n",
       "      <td>-400.633868</td>\n",
       "      <td>-400.628599</td>\n",
       "      <td>-400.627654</td>\n",
       "      <td>-400.663098</td>\n",
       "      <td>23.658</td>\n",
       "      <td>-1603.983913</td>\n",
       "      <td>-1614.898804</td>\n",
       "      <td>-1623.788097</td>\n",
       "      <td>-1492.819438</td>\n",
       "    </tr>\n",
       "    <tr>\n",
       "      <th>133881</th>\n",
       "      <td>gdb_133882</td>\n",
       "      <td>3.65648</td>\n",
       "      <td>2.142370</td>\n",
       "      <td>1.904390</td>\n",
       "      <td>1.2976</td>\n",
       "      <td>69.52</td>\n",
       "      <td>-0.2393</td>\n",
       "      <td>0.0608</td>\n",
       "      <td>0.3002</td>\n",
       "      <td>762.6354</td>\n",
       "      <td>0.127495</td>\n",
       "      <td>-400.629713</td>\n",
       "      <td>-400.624444</td>\n",
       "      <td>-400.623500</td>\n",
       "      <td>-400.658942</td>\n",
       "      <td>23.697</td>\n",
       "      <td>-1601.376613</td>\n",
       "      <td>-1612.291504</td>\n",
       "      <td>-1621.181424</td>\n",
       "      <td>-1490.211511</td>\n",
       "    </tr>\n",
       "    <tr>\n",
       "      <th>133882</th>\n",
       "      <td>gdb_133883</td>\n",
       "      <td>3.67118</td>\n",
       "      <td>2.143140</td>\n",
       "      <td>1.895010</td>\n",
       "      <td>1.2480</td>\n",
       "      <td>73.60</td>\n",
       "      <td>-0.2233</td>\n",
       "      <td>0.0720</td>\n",
       "      <td>0.2953</td>\n",
       "      <td>780.3553</td>\n",
       "      <td>0.140458</td>\n",
       "      <td>-380.753918</td>\n",
       "      <td>-380.748619</td>\n",
       "      <td>-380.747675</td>\n",
       "      <td>-380.783148</td>\n",
       "      <td>23.972</td>\n",
       "      <td>-1667.045429</td>\n",
       "      <td>-1678.830048</td>\n",
       "      <td>-1688.312964</td>\n",
       "      <td>-1549.143391</td>\n",
       "    </tr>\n",
       "    <tr>\n",
       "      <th>133883</th>\n",
       "      <td>gdb_133884</td>\n",
       "      <td>3.52845</td>\n",
       "      <td>2.151310</td>\n",
       "      <td>1.865820</td>\n",
       "      <td>1.9576</td>\n",
       "      <td>77.40</td>\n",
       "      <td>-0.2122</td>\n",
       "      <td>0.0881</td>\n",
       "      <td>0.3003</td>\n",
       "      <td>803.1904</td>\n",
       "      <td>0.152222</td>\n",
       "      <td>-364.720374</td>\n",
       "      <td>-364.714974</td>\n",
       "      <td>-364.714030</td>\n",
       "      <td>-364.749650</td>\n",
       "      <td>24.796</td>\n",
       "      <td>-1794.600439</td>\n",
       "      <td>-1807.210860</td>\n",
       "      <td>-1817.286772</td>\n",
       "      <td>-1670.349892</td>\n",
       "    </tr>\n",
       "    <tr>\n",
       "      <th>133884</th>\n",
       "      <td>gdb_133885</td>\n",
       "      <td>3.64015</td>\n",
       "      <td>2.217640</td>\n",
       "      <td>1.937930</td>\n",
       "      <td>0.8626</td>\n",
       "      <td>69.48</td>\n",
       "      <td>-0.2316</td>\n",
       "      <td>0.0742</td>\n",
       "      <td>0.3058</td>\n",
       "      <td>756.3557</td>\n",
       "      <td>0.127862</td>\n",
       "      <td>-400.633052</td>\n",
       "      <td>-400.627892</td>\n",
       "      <td>-400.626948</td>\n",
       "      <td>-400.662186</td>\n",
       "      <td>23.434</td>\n",
       "      <td>-1603.471865</td>\n",
       "      <td>-1614.455155</td>\n",
       "      <td>-1623.345075</td>\n",
       "      <td>-1492.247150</td>\n",
       "    </tr>\n",
       "  </tbody>\n",
       "</table>\n",
       "<p>133885 rows × 20 columns</p>\n",
       "</div>"
      ],
      "text/plain": [
       "            mol_id          A           B           C      mu  alpha    homo  \\\n",
       "0            gdb_1  157.71180  157.709970  157.706990  0.0000  13.21 -0.3877   \n",
       "1            gdb_2  293.60975  293.541110  191.393970  1.6256   9.46 -0.2570   \n",
       "2            gdb_3  799.58812  437.903860  282.945450  1.8511   6.31 -0.2928   \n",
       "3            gdb_4    0.00000   35.610036   35.610036  0.0000  16.28 -0.2845   \n",
       "4            gdb_5    0.00000   44.593883   44.593883  2.8937  12.99 -0.3604   \n",
       "...            ...        ...         ...         ...     ...    ...     ...   \n",
       "133880  gdb_133881    3.59483    2.198990    1.904230  1.6637  69.37 -0.2254   \n",
       "133881  gdb_133882    3.65648    2.142370    1.904390  1.2976  69.52 -0.2393   \n",
       "133882  gdb_133883    3.67118    2.143140    1.895010  1.2480  73.60 -0.2233   \n",
       "133883  gdb_133884    3.52845    2.151310    1.865820  1.9576  77.40 -0.2122   \n",
       "133884  gdb_133885    3.64015    2.217640    1.937930  0.8626  69.48 -0.2316   \n",
       "\n",
       "          lumo     gap        r2      zpve          u0        u298  \\\n",
       "0       0.1171  0.5048   35.3641  0.044749  -40.478930  -40.476062   \n",
       "1       0.0829  0.3399   26.1563  0.034358  -56.525887  -56.523026   \n",
       "2       0.0687  0.3615   19.0002  0.021375  -76.404702  -76.401867   \n",
       "3       0.0506  0.3351   59.5248  0.026841  -77.308427  -77.305527   \n",
       "4       0.0191  0.3796   48.7476  0.016601  -93.411888  -93.409370   \n",
       "...        ...     ...       ...       ...         ...         ...   \n",
       "133880  0.0588  0.2842  760.7472  0.127406 -400.633868 -400.628599   \n",
       "133881  0.0608  0.3002  762.6354  0.127495 -400.629713 -400.624444   \n",
       "133882  0.0720  0.2953  780.3553  0.140458 -380.753918 -380.748619   \n",
       "133883  0.0881  0.3003  803.1904  0.152222 -364.720374 -364.714974   \n",
       "133884  0.0742  0.3058  756.3557  0.127862 -400.633052 -400.627892   \n",
       "\n",
       "              h298        g298      cv      u0_atom    u298_atom    h298_atom  \\\n",
       "0       -40.475117  -40.498597   6.469  -395.999595  -398.643290  -401.014647   \n",
       "1       -56.522082  -56.544961   6.316  -276.861363  -278.620271  -280.399259   \n",
       "2       -76.400922  -76.422349   6.002  -213.087624  -213.974294  -215.159658   \n",
       "3       -77.304583  -77.327429   8.574  -385.501997  -387.237686  -389.016047   \n",
       "4       -93.408425  -93.431246   6.278  -301.820534  -302.906752  -304.091489   \n",
       "...            ...         ...     ...          ...          ...          ...   \n",
       "133880 -400.627654 -400.663098  23.658 -1603.983913 -1614.898804 -1623.788097   \n",
       "133881 -400.623500 -400.658942  23.697 -1601.376613 -1612.291504 -1621.181424   \n",
       "133882 -380.747675 -380.783148  23.972 -1667.045429 -1678.830048 -1688.312964   \n",
       "133883 -364.714030 -364.749650  24.796 -1794.600439 -1807.210860 -1817.286772   \n",
       "133884 -400.626948 -400.662186  23.434 -1603.471865 -1614.455155 -1623.345075   \n",
       "\n",
       "          g298_atom  \n",
       "0       -372.471772  \n",
       "1       -259.338802  \n",
       "2       -201.407171  \n",
       "3       -365.800724  \n",
       "4       -288.720028  \n",
       "...             ...  \n",
       "133880 -1492.819438  \n",
       "133881 -1490.211511  \n",
       "133882 -1549.143391  \n",
       "133883 -1670.349892  \n",
       "133884 -1492.247150  \n",
       "\n",
       "[133885 rows x 20 columns]"
      ]
     },
     "execution_count": 27,
     "metadata": {},
     "output_type": "execute_result"
    }
   ],
   "source": [
    "qm9"
   ]
  },
  {
   "cell_type": "code",
   "execution_count": 28,
   "id": "37535d70",
   "metadata": {},
   "outputs": [],
   "source": [
    "sdf = Chem.SDMolSupplier('../data/QM9/raw/gdb9.sdf')"
   ]
  },
  {
   "cell_type": "code",
   "execution_count": 29,
   "id": "67d213d6",
   "metadata": {},
   "outputs": [],
   "source": [
    "mol = sdf[0]"
   ]
  },
  {
   "cell_type": "code",
   "execution_count": 30,
   "id": "95bb6d2e",
   "metadata": {},
   "outputs": [],
   "source": [
    "conf = mol.GetConformer()"
   ]
  },
  {
   "cell_type": "code",
   "execution_count": 31,
   "id": "1906ea85",
   "metadata": {},
   "outputs": [],
   "source": [
    "pos = conf.GetPositions()"
   ]
  },
  {
   "cell_type": "code",
   "execution_count": 32,
   "id": "b067425c",
   "metadata": {},
   "outputs": [
    {
     "data": {
      "text/plain": [
       "array([[-0.0127,  1.0858,  0.008 ]])"
      ]
     },
     "execution_count": 32,
     "metadata": {},
     "output_type": "execute_result"
    }
   ],
   "source": [
    "pos"
   ]
  },
  {
   "cell_type": "code",
   "execution_count": 33,
   "id": "7c30f22c",
   "metadata": {},
   "outputs": [],
   "source": [
    "pos = torch.tensor(pos, dtype=torch.float)"
   ]
  },
  {
   "cell_type": "code",
   "execution_count": 34,
   "id": "7f2a3b39",
   "metadata": {},
   "outputs": [
    {
     "data": {
      "text/plain": [
       "tensor([[-0.0127,  1.0858,  0.0080]])"
      ]
     },
     "execution_count": 34,
     "metadata": {},
     "output_type": "execute_result"
    }
   ],
   "source": [
    "pos"
   ]
  },
  {
   "cell_type": "markdown",
   "id": "be937eb3",
   "metadata": {},
   "source": [
    " # Mol"
   ]
  },
  {
   "cell_type": "code",
   "execution_count": 40,
   "id": "a411cf1e",
   "metadata": {},
   "outputs": [],
   "source": [
    "from rdkit import Chem, RDLogger\n",
    "from rdkit.Chem.rdchem import BondType as BT\n",
    "from rdkit.Chem.rdchem import HybridizationType"
   ]
  },
  {
   "cell_type": "code",
   "execution_count": 52,
   "id": "194bd7ae",
   "metadata": {},
   "outputs": [],
   "source": [
    "import torch.nn.functional as F"
   ]
  },
  {
   "cell_type": "code",
   "execution_count": 85,
   "id": "eab033e5",
   "metadata": {},
   "outputs": [],
   "source": [
    "from torch_scatter import scatter\n",
    "from torch_geometric.data import Data"
   ]
  },
  {
   "cell_type": "code",
   "execution_count": 35,
   "id": "b71ffc8c",
   "metadata": {},
   "outputs": [],
   "source": [
    "m1 = Chem.MolFromMolFile('../data/mol_files/train_set/train_0_ex.mol')"
   ]
  },
  {
   "cell_type": "code",
   "execution_count": 36,
   "id": "1a1f9390",
   "metadata": {},
   "outputs": [],
   "source": [
    "N = m1.GetNumAtoms()"
   ]
  },
  {
   "cell_type": "code",
   "execution_count": 37,
   "id": "0290e401",
   "metadata": {},
   "outputs": [],
   "source": [
    "conf = mol.GetConformer()\n",
    "pos = conf.GetPositions()\n",
    "pos = torch.tensor(pos, dtype=torch.float)\n"
   ]
  },
  {
   "cell_type": "code",
   "execution_count": 41,
   "id": "67953116",
   "metadata": {},
   "outputs": [],
   "source": [
    "types = {'H': 0, 'C': 1, 'N': 2, 'O': 3, 'F': 4}\n",
    "bonds = {BT.SINGLE: 0, BT.DOUBLE: 1, BT.TRIPLE: 2, BT.AROMATIC: 3}"
   ]
  },
  {
   "cell_type": "code",
   "execution_count": 45,
   "id": "db6d804c",
   "metadata": {},
   "outputs": [],
   "source": [
    "type_idx = []\n",
    "atomic_number = []\n",
    "aromatic = []\n",
    "sp = []\n",
    "sp2 = []\n",
    "sp3 = []\n",
    "num_hs = []\n",
    "for atom in m1.GetAtoms():\n",
    "    type_idx.append(types[atom.GetSymbol()])\n",
    "    atomic_number.append(atom.GetAtomicNum())\n",
    "    aromatic.append(1 if atom.GetIsAromatic() else 0)\n",
    "    hybridization = atom.GetHybridization()\n",
    "    sp.append(1 if hybridization == HybridizationType.SP else 0)\n",
    "    sp2.append(1 if hybridization == HybridizationType.SP2 else 0)\n",
    "    sp3.append(1 if hybridization == HybridizationType.SP3 else 0)"
   ]
  },
  {
   "cell_type": "code",
   "execution_count": 91,
   "id": "9d1b590a",
   "metadata": {},
   "outputs": [
    {
     "data": {
      "text/plain": [
       "[6,\n",
       " 6,\n",
       " 6,\n",
       " 6,\n",
       " 6,\n",
       " 6,\n",
       " 6,\n",
       " 7,\n",
       " 6,\n",
       " 8,\n",
       " 6,\n",
       " 6,\n",
       " 8,\n",
       " 6,\n",
       " 8,\n",
       " 6,\n",
       " 6,\n",
       " 6,\n",
       " 8,\n",
       " 6,\n",
       " 7,\n",
       " 6,\n",
       " 6,\n",
       " 6,\n",
       " 6,\n",
       " 6,\n",
       " 6,\n",
       " 7]"
      ]
     },
     "execution_count": 91,
     "metadata": {},
     "output_type": "execute_result"
    }
   ],
   "source": [
    "atomic_number"
   ]
  },
  {
   "cell_type": "code",
   "execution_count": 48,
   "id": "15d44fdf",
   "metadata": {},
   "outputs": [],
   "source": [
    "z = torch.tensor(atomic_number, dtype=torch.long)"
   ]
  },
  {
   "cell_type": "code",
   "execution_count": 57,
   "id": "08fea1e4",
   "metadata": {},
   "outputs": [],
   "source": [
    "row, col, edge_type = [], [], []\n",
    "for bond in m1.GetBonds():\n",
    "    start, end = bond.GetBeginAtomIdx(), bond.GetEndAtomIdx()\n",
    "    row += [start, end]\n",
    "    col += [end, start]\n",
    "    edge_type += 2 * [bonds[bond.GetBondType()]]"
   ]
  },
  {
   "cell_type": "code",
   "execution_count": 58,
   "id": "64201a88",
   "metadata": {},
   "outputs": [],
   "source": [
    "edge_index = torch.tensor([row, col], dtype=torch.long)\n",
    "edge_type = torch.tensor(edge_type, dtype=torch.long)\n",
    "edge_attr = F.one_hot(edge_type,\n",
    "                      num_classes=len(bonds)).to(torch.float)"
   ]
  },
  {
   "cell_type": "code",
   "execution_count": 62,
   "id": "bce95aad",
   "metadata": {},
   "outputs": [],
   "source": [
    "perm = (edge_index[0] * N + edge_index[1]).argsort()\n",
    "edge_index = edge_index[:, perm]\n",
    "edge_type = edge_type[perm]\n",
    "edge_attr = edge_attr[perm]"
   ]
  },
  {
   "cell_type": "code",
   "execution_count": 63,
   "id": "cc3c88a5",
   "metadata": {},
   "outputs": [
    {
     "data": {
      "text/plain": [
       "tensor([ 0,  1,  2,  3,  4,  6,  5,  8,  9, 10, 11, 12, 13, 14,  7, 15, 16, 17,\n",
       "        18, 20, 19, 21, 22, 24, 23, 25, 26, 27, 28, 30, 29, 31, 32, 34, 33, 36,\n",
       "        38, 37, 39, 40, 41, 42, 44, 43, 46, 48, 47, 50, 51, 52, 53, 54, 49, 55,\n",
       "        35, 45, 56, 57, 58, 59])"
      ]
     },
     "execution_count": 63,
     "metadata": {},
     "output_type": "execute_result"
    }
   ],
   "source": [
    "perm"
   ]
  },
  {
   "cell_type": "code",
   "execution_count": 67,
   "id": "5510de54",
   "metadata": {},
   "outputs": [],
   "source": [
    "row, col = edge_index\n",
    "hs = (z == 1).to(torch.float)\n",
    "num_hs = scatter(hs[row], col, dim_size=N).tolist()"
   ]
  },
  {
   "cell_type": "code",
   "execution_count": 68,
   "id": "255cc57c",
   "metadata": {},
   "outputs": [
    {
     "data": {
      "text/plain": [
       "tensor([ 0,  1,  1,  2,  2,  2,  3,  3,  4,  4,  5,  5,  6,  6,  7,  7,  7,  8,\n",
       "         8,  8,  9, 10, 10, 10, 11, 12, 12, 13, 13, 13, 14, 15, 15, 15, 16, 16,\n",
       "        16, 17, 18, 18, 19, 19, 19, 20, 20, 20, 21, 21, 22, 22, 23, 23, 24, 24,\n",
       "        25, 25, 25, 26, 26, 27])"
      ]
     },
     "execution_count": 68,
     "metadata": {},
     "output_type": "execute_result"
    }
   ],
   "source": [
    "row"
   ]
  },
  {
   "cell_type": "code",
   "execution_count": 69,
   "id": "cd584960",
   "metadata": {},
   "outputs": [
    {
     "data": {
      "text/plain": [
       "tensor([ 1,  0,  2,  1,  3,  7,  2,  4,  3,  5,  4,  6,  5,  7,  2,  6,  8,  7,\n",
       "         9, 10,  8,  8, 11, 12, 10, 10, 13, 12, 14, 15, 13, 13, 16, 25, 15, 17,\n",
       "        18, 16, 16, 19, 18, 20, 25, 19, 21, 24, 20, 22, 21, 23, 22, 24, 20, 23,\n",
       "        15, 19, 26, 25, 27, 26])"
      ]
     },
     "execution_count": 69,
     "metadata": {},
     "output_type": "execute_result"
    }
   ],
   "source": [
    "col"
   ]
  },
  {
   "cell_type": "code",
   "execution_count": 70,
   "id": "749d9728",
   "metadata": {},
   "outputs": [
    {
     "data": {
      "text/plain": [
       "tensor([0., 0., 0., 0., 0., 0., 0., 0., 0., 0., 0., 0., 0., 0., 0., 0., 0., 0., 0., 0., 0., 0., 0., 0.,\n",
       "        0., 0., 0., 0.])"
      ]
     },
     "execution_count": 70,
     "metadata": {},
     "output_type": "execute_result"
    }
   ],
   "source": [
    "hs"
   ]
  },
  {
   "cell_type": "code",
   "execution_count": 71,
   "id": "ffcd1a5f",
   "metadata": {},
   "outputs": [
    {
     "data": {
      "text/plain": [
       "[0.0,\n",
       " 0.0,\n",
       " 0.0,\n",
       " 0.0,\n",
       " 0.0,\n",
       " 0.0,\n",
       " 0.0,\n",
       " 0.0,\n",
       " 0.0,\n",
       " 0.0,\n",
       " 0.0,\n",
       " 0.0,\n",
       " 0.0,\n",
       " 0.0,\n",
       " 0.0,\n",
       " 0.0,\n",
       " 0.0,\n",
       " 0.0,\n",
       " 0.0,\n",
       " 0.0,\n",
       " 0.0,\n",
       " 0.0,\n",
       " 0.0,\n",
       " 0.0,\n",
       " 0.0,\n",
       " 0.0,\n",
       " 0.0,\n",
       " 0.0]"
      ]
     },
     "execution_count": 71,
     "metadata": {},
     "output_type": "execute_result"
    }
   ],
   "source": [
    "num_hs"
   ]
  },
  {
   "cell_type": "code",
   "execution_count": 72,
   "id": "d5bee281",
   "metadata": {},
   "outputs": [],
   "source": [
    "x1 = F.one_hot(torch.tensor(type_idx), num_classes=len(types))\n",
    "x2 = torch.tensor([atomic_number, aromatic, sp, sp2, sp3, num_hs],\n",
    "                  dtype=torch.float).t().contiguous()\n",
    "x = torch.cat([x1.to(torch.float), x2], dim=-1)"
   ]
  },
  {
   "cell_type": "code",
   "execution_count": 73,
   "id": "f39370f0",
   "metadata": {},
   "outputs": [
    {
     "data": {
      "text/plain": [
       "tensor([[0, 1, 0, 0, 0],\n",
       "        [0, 1, 0, 0, 0],\n",
       "        [0, 1, 0, 0, 0],\n",
       "        [0, 1, 0, 0, 0],\n",
       "        [0, 1, 0, 0, 0],\n",
       "        [0, 1, 0, 0, 0],\n",
       "        [0, 1, 0, 0, 0],\n",
       "        [0, 0, 1, 0, 0],\n",
       "        [0, 1, 0, 0, 0],\n",
       "        [0, 0, 0, 1, 0],\n",
       "        [0, 1, 0, 0, 0],\n",
       "        [0, 1, 0, 0, 0],\n",
       "        [0, 0, 0, 1, 0],\n",
       "        [0, 1, 0, 0, 0],\n",
       "        [0, 0, 0, 1, 0],\n",
       "        [0, 1, 0, 0, 0],\n",
       "        [0, 1, 0, 0, 0],\n",
       "        [0, 1, 0, 0, 0],\n",
       "        [0, 0, 0, 1, 0],\n",
       "        [0, 1, 0, 0, 0],\n",
       "        [0, 0, 1, 0, 0],\n",
       "        [0, 1, 0, 0, 0],\n",
       "        [0, 1, 0, 0, 0],\n",
       "        [0, 1, 0, 0, 0],\n",
       "        [0, 1, 0, 0, 0],\n",
       "        [0, 1, 0, 0, 0],\n",
       "        [0, 1, 0, 0, 0],\n",
       "        [0, 0, 1, 0, 0]])"
      ]
     },
     "execution_count": 73,
     "metadata": {},
     "output_type": "execute_result"
    }
   ],
   "source": [
    "x1"
   ]
  },
  {
   "cell_type": "code",
   "execution_count": 74,
   "id": "6ccc80b5",
   "metadata": {},
   "outputs": [
    {
     "data": {
      "text/plain": [
       "tensor([[6., 0., 0., 0., 1., 0.],\n",
       "        [6., 0., 0., 0., 1., 0.],\n",
       "        [6., 0., 0., 0., 1., 0.],\n",
       "        [6., 0., 0., 0., 1., 0.],\n",
       "        [6., 0., 0., 0., 1., 0.],\n",
       "        [6., 0., 0., 0., 1., 0.],\n",
       "        [6., 0., 0., 0., 1., 0.],\n",
       "        [7., 0., 0., 1., 0., 0.],\n",
       "        [6., 0., 0., 1., 0., 0.],\n",
       "        [8., 0., 0., 1., 0., 0.],\n",
       "        [6., 0., 0., 0., 1., 0.],\n",
       "        [6., 0., 0., 0., 1., 0.],\n",
       "        [8., 0., 0., 1., 0., 0.],\n",
       "        [6., 0., 0., 1., 0., 0.],\n",
       "        [8., 0., 0., 1., 0., 0.],\n",
       "        [6., 1., 0., 1., 0., 0.],\n",
       "        [6., 1., 0., 1., 0., 0.],\n",
       "        [6., 0., 0., 0., 1., 0.],\n",
       "        [8., 1., 0., 1., 0., 0.],\n",
       "        [6., 1., 0., 1., 0., 0.],\n",
       "        [7., 1., 0., 1., 0., 0.],\n",
       "        [6., 1., 0., 1., 0., 0.],\n",
       "        [6., 1., 0., 1., 0., 0.],\n",
       "        [6., 1., 0., 1., 0., 0.],\n",
       "        [6., 1., 0., 1., 0., 0.],\n",
       "        [6., 1., 0., 1., 0., 0.],\n",
       "        [6., 0., 1., 0., 0., 0.],\n",
       "        [7., 0., 1., 0., 0., 0.]])"
      ]
     },
     "execution_count": 74,
     "metadata": {},
     "output_type": "execute_result"
    }
   ],
   "source": [
    "x2"
   ]
  },
  {
   "cell_type": "code",
   "execution_count": 75,
   "id": "238380c5",
   "metadata": {},
   "outputs": [
    {
     "data": {
      "text/plain": [
       "tensor([[0., 1., 0., 0., 0., 6., 0., 0., 0., 1., 0.],\n",
       "        [0., 1., 0., 0., 0., 6., 0., 0., 0., 1., 0.],\n",
       "        [0., 1., 0., 0., 0., 6., 0., 0., 0., 1., 0.],\n",
       "        [0., 1., 0., 0., 0., 6., 0., 0., 0., 1., 0.],\n",
       "        [0., 1., 0., 0., 0., 6., 0., 0., 0., 1., 0.],\n",
       "        [0., 1., 0., 0., 0., 6., 0., 0., 0., 1., 0.],\n",
       "        [0., 1., 0., 0., 0., 6., 0., 0., 0., 1., 0.],\n",
       "        [0., 0., 1., 0., 0., 7., 0., 0., 1., 0., 0.],\n",
       "        [0., 1., 0., 0., 0., 6., 0., 0., 1., 0., 0.],\n",
       "        [0., 0., 0., 1., 0., 8., 0., 0., 1., 0., 0.],\n",
       "        [0., 1., 0., 0., 0., 6., 0., 0., 0., 1., 0.],\n",
       "        [0., 1., 0., 0., 0., 6., 0., 0., 0., 1., 0.],\n",
       "        [0., 0., 0., 1., 0., 8., 0., 0., 1., 0., 0.],\n",
       "        [0., 1., 0., 0., 0., 6., 0., 0., 1., 0., 0.],\n",
       "        [0., 0., 0., 1., 0., 8., 0., 0., 1., 0., 0.],\n",
       "        [0., 1., 0., 0., 0., 6., 1., 0., 1., 0., 0.],\n",
       "        [0., 1., 0., 0., 0., 6., 1., 0., 1., 0., 0.],\n",
       "        [0., 1., 0., 0., 0., 6., 0., 0., 0., 1., 0.],\n",
       "        [0., 0., 0., 1., 0., 8., 1., 0., 1., 0., 0.],\n",
       "        [0., 1., 0., 0., 0., 6., 1., 0., 1., 0., 0.],\n",
       "        [0., 0., 1., 0., 0., 7., 1., 0., 1., 0., 0.],\n",
       "        [0., 1., 0., 0., 0., 6., 1., 0., 1., 0., 0.],\n",
       "        [0., 1., 0., 0., 0., 6., 1., 0., 1., 0., 0.],\n",
       "        [0., 1., 0., 0., 0., 6., 1., 0., 1., 0., 0.],\n",
       "        [0., 1., 0., 0., 0., 6., 1., 0., 1., 0., 0.],\n",
       "        [0., 1., 0., 0., 0., 6., 1., 0., 1., 0., 0.],\n",
       "        [0., 1., 0., 0., 0., 6., 0., 1., 0., 0., 0.],\n",
       "        [0., 0., 1., 0., 0., 7., 0., 1., 0., 0., 0.]])"
      ]
     },
     "execution_count": 75,
     "metadata": {},
     "output_type": "execute_result"
    }
   ],
   "source": [
    "x"
   ]
  },
  {
   "cell_type": "code",
   "execution_count": 77,
   "id": "14c9ef27",
   "metadata": {},
   "outputs": [],
   "source": [
    "# y = target[i].unsqueeze(0)\n",
    "name = m1.GetProp('_Name')"
   ]
  },
  {
   "cell_type": "code",
   "execution_count": 78,
   "id": "62fa99cb",
   "metadata": {},
   "outputs": [
    {
     "data": {
      "text/plain": [
       "''"
      ]
     },
     "execution_count": 78,
     "metadata": {},
     "output_type": "execute_result"
    }
   ],
   "source": [
    "name"
   ]
  },
  {
   "cell_type": "code",
   "execution_count": 87,
   "id": "16554d52",
   "metadata": {},
   "outputs": [],
   "source": [
    "data = Data(x=x, z=z, pos=pos, edge_index=edge_index,\n",
    "                        edge_attr=edge_attr, name=name)"
   ]
  },
  {
   "cell_type": "code",
   "execution_count": 88,
   "id": "81417ed8",
   "metadata": {},
   "outputs": [
    {
     "data": {
      "text/plain": [
       "Data(x=[28, 11], edge_index=[2, 60], edge_attr=[60, 4], pos=[1, 3], z=[28], name='')"
      ]
     },
     "execution_count": 88,
     "metadata": {},
     "output_type": "execute_result"
    }
   ],
   "source": [
    "data"
   ]
  },
  {
   "cell_type": "code",
   "execution_count": 89,
   "id": "3b8f1369",
   "metadata": {},
   "outputs": [
    {
     "data": {
      "text/plain": [
       "tensor([[0., 1., 0., 0., 0., 6., 0., 0., 0., 1., 0.],\n",
       "        [0., 1., 0., 0., 0., 6., 0., 0., 0., 1., 0.],\n",
       "        [0., 1., 0., 0., 0., 6., 0., 0., 0., 1., 0.],\n",
       "        [0., 1., 0., 0., 0., 6., 0., 0., 0., 1., 0.],\n",
       "        [0., 1., 0., 0., 0., 6., 0., 0., 0., 1., 0.],\n",
       "        [0., 1., 0., 0., 0., 6., 0., 0., 0., 1., 0.],\n",
       "        [0., 1., 0., 0., 0., 6., 0., 0., 0., 1., 0.],\n",
       "        [0., 0., 1., 0., 0., 7., 0., 0., 1., 0., 0.],\n",
       "        [0., 1., 0., 0., 0., 6., 0., 0., 1., 0., 0.],\n",
       "        [0., 0., 0., 1., 0., 8., 0., 0., 1., 0., 0.],\n",
       "        [0., 1., 0., 0., 0., 6., 0., 0., 0., 1., 0.],\n",
       "        [0., 1., 0., 0., 0., 6., 0., 0., 0., 1., 0.],\n",
       "        [0., 0., 0., 1., 0., 8., 0., 0., 1., 0., 0.],\n",
       "        [0., 1., 0., 0., 0., 6., 0., 0., 1., 0., 0.],\n",
       "        [0., 0., 0., 1., 0., 8., 0., 0., 1., 0., 0.],\n",
       "        [0., 1., 0., 0., 0., 6., 1., 0., 1., 0., 0.],\n",
       "        [0., 1., 0., 0., 0., 6., 1., 0., 1., 0., 0.],\n",
       "        [0., 1., 0., 0., 0., 6., 0., 0., 0., 1., 0.],\n",
       "        [0., 0., 0., 1., 0., 8., 1., 0., 1., 0., 0.],\n",
       "        [0., 1., 0., 0., 0., 6., 1., 0., 1., 0., 0.],\n",
       "        [0., 0., 1., 0., 0., 7., 1., 0., 1., 0., 0.],\n",
       "        [0., 1., 0., 0., 0., 6., 1., 0., 1., 0., 0.],\n",
       "        [0., 1., 0., 0., 0., 6., 1., 0., 1., 0., 0.],\n",
       "        [0., 1., 0., 0., 0., 6., 1., 0., 1., 0., 0.],\n",
       "        [0., 1., 0., 0., 0., 6., 1., 0., 1., 0., 0.],\n",
       "        [0., 1., 0., 0., 0., 6., 1., 0., 1., 0., 0.],\n",
       "        [0., 1., 0., 0., 0., 6., 0., 1., 0., 0., 0.],\n",
       "        [0., 0., 1., 0., 0., 7., 0., 1., 0., 0., 0.]])"
      ]
     },
     "execution_count": 89,
     "metadata": {},
     "output_type": "execute_result"
    }
   ],
   "source": [
    "data.x"
   ]
  },
  {
   "cell_type": "code",
   "execution_count": 90,
   "id": "4e765745",
   "metadata": {},
   "outputs": [
    {
     "data": {
      "text/plain": [
       "tensor([[ 0,  1,  1,  2,  2,  2,  3,  3,  4,  4,  5,  5,  6,  6,  7,  7,  7,  8,\n",
       "          8,  8,  9, 10, 10, 10, 11, 12, 12, 13, 13, 13, 14, 15, 15, 15, 16, 16,\n",
       "         16, 17, 18, 18, 19, 19, 19, 20, 20, 20, 21, 21, 22, 22, 23, 23, 24, 24,\n",
       "         25, 25, 25, 26, 26, 27],\n",
       "        [ 1,  0,  2,  1,  3,  7,  2,  4,  3,  5,  4,  6,  5,  7,  2,  6,  8,  7,\n",
       "          9, 10,  8,  8, 11, 12, 10, 10, 13, 12, 14, 15, 13, 13, 16, 25, 15, 17,\n",
       "         18, 16, 16, 19, 18, 20, 25, 19, 21, 24, 20, 22, 21, 23, 22, 24, 20, 23,\n",
       "         15, 19, 26, 25, 27, 26]])"
      ]
     },
     "execution_count": 90,
     "metadata": {},
     "output_type": "execute_result"
    }
   ],
   "source": [
    "data.edge_index"
   ]
  },
  {
   "cell_type": "code",
   "execution_count": null,
   "id": "097dc5cb",
   "metadata": {},
   "outputs": [],
   "source": []
  }
 ],
 "metadata": {
  "kernelspec": {
   "display_name": "Python 3 (ipykernel)",
   "language": "python",
   "name": "python3"
  },
  "language_info": {
   "codemirror_mode": {
    "name": "ipython",
    "version": 3
   },
   "file_extension": ".py",
   "mimetype": "text/x-python",
   "name": "python",
   "nbconvert_exporter": "python",
   "pygments_lexer": "ipython3",
   "version": "3.8.12"
  }
 },
 "nbformat": 4,
 "nbformat_minor": 5
}
