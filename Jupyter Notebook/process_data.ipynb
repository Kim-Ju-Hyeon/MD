{
 "cells": [
  {
   "cell_type": "code",
   "execution_count": 52,
   "id": "2bce259b",
   "metadata": {},
   "outputs": [],
   "source": [
    "import torch\n",
    "from torch_geometric.data import Data\n",
    "import pandas"
   ]
  },
  {
   "cell_type": "code",
   "execution_count": null,
   "id": "47802b4f",
   "metadata": {},
   "outputs": [],
   "source": [
    "import pickle"
   ]
  },
  {
   "cell_type": "code",
   "execution_count": 53,
   "id": "b3e546ee",
   "metadata": {},
   "outputs": [],
   "source": [
    "data = torch.load(\"qm9_train_data.pt\")"
   ]
  },
  {
   "cell_type": "code",
   "execution_count": 55,
   "id": "f56e1d31",
   "metadata": {},
   "outputs": [],
   "source": [
    "y = data['mu']\n",
    "num_nodes = data['num_atoms']\n",
    "num_edges = data['num_bonds']\n",
    "coords = data['x']\n",
    "atomic_numbers = data['atomic_numbers']\n",
    "edge = data['edge']"
   ]
  },
  {
   "cell_type": "code",
   "execution_count": 58,
   "id": "1f1349e8",
   "metadata": {},
   "outputs": [],
   "source": [
    "train = []\n",
    "\n",
    "for i in range(len(y)):\n",
    "    y_s = torch.tensor(y[i], dtype=torch.float)\n",
    "    num_node_s = num_nodes[i]\n",
    "    num_edge_s = num_edges[i]\n",
    "    coord = torch.tensor(coords[i][:num_node_s])\n",
    "    atomic_num = torch.tensor(atomic_numbers[i][:num_node_s, :], dtype=torch.long)\n",
    "    edge_index = torch.tensor(edge[0][:num_node_s, :2], dtype=torch.long).t()\n",
    "\n",
    "    train.append(Data(pos=coord, z=atomic_num, y=y_s, edge_index=edge_index))\n",
    "    \n",
    "pickle.dump(sample, f'processed_train/data_{i}_train.pt')"
   ]
  },
  {
   "cell_type": "code",
   "execution_count": 49,
   "id": "b4555ff6",
   "metadata": {},
   "outputs": [],
   "source": [
    "data_test = torch.load(\"qm9_test_data.pt\")\n",
    "\n",
    "num_nodes = data_test['num_atoms']\n",
    "num_edges = data_test['num_bonds']\n",
    "coords = data_test['x']\n",
    "atomic_numbers = data_test['atomic_numbers']\n",
    "\n",
    "test = []\n",
    "for i in range(len(num_nodes)):\n",
    "    num_node_s = num_nodes[i]\n",
    "    num_edge_s = num_edges[i]\n",
    "    coord = torch.tensor(coords[i][:num_node_s])\n",
    "    edge_index = torch.tensor(edge[0][:num_node_s, :2], dtype=torch.long).t()\n",
    "    atomic_num = torch.tensor(atomic_numbers[i][:num_node_s, :], dtype=torch.long)\n",
    "\n",
    "    test.append(Data(pos=coord, z=atomic_num, edge_index=edge_index))\n",
    "    \n",
    "torch.save(sample, f'processed_test/data_{i}_test.pt')"
   ]
  }
 ],
 "metadata": {
  "kernelspec": {
   "display_name": "Python 3 (ipykernel)",
   "language": "python",
   "name": "python3"
  },
  "language_info": {
   "codemirror_mode": {
    "name": "ipython",
    "version": 3
   },
   "file_extension": ".py",
   "mimetype": "text/x-python",
   "name": "python",
   "nbconvert_exporter": "python",
   "pygments_lexer": "ipython3",
   "version": "3.9.13"
  }
 },
 "nbformat": 4,
 "nbformat_minor": 5
}
