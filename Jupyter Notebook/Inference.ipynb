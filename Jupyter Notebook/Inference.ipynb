{
 "cells": [
  {
   "cell_type": "code",
   "execution_count": 1,
   "id": "06465e7c",
   "metadata": {},
   "outputs": [],
   "source": [
    "import sys\n",
    "\n",
    "sys.path.append('../')"
   ]
  },
  {
   "cell_type": "code",
   "execution_count": 2,
   "id": "773cd022",
   "metadata": {},
   "outputs": [],
   "source": [
    "import os\n",
    "from glob import glob\n",
    "import yaml\n",
    "from easydict import EasyDict as edict\n",
    "import numpy as np\n",
    "import pandas as pd\n",
    "from tqdm import tqdm\n",
    "import pickle\n",
    "import torch\n",
    "import torch.nn as nn\n",
    "\n",
    "from collections import defaultdict\n",
    "import torch.optim as optim\n",
    "\n",
    "from utils.train_helper import model_snapshot, load_model\n",
    "from utils.logger import get_logger\n",
    "\n",
    "from torch_geometric.loader import DataLoader\n",
    "from models.DimeNet.model import DimeNet\n",
    "from models.SphereNet.model import SphereNet\n",
    "from models.ComENet.model import ComENet\n",
    "from dataset.dataset_loader import get_dataset, get_qm9_dataset"
   ]
  },
  {
   "cell_type": "code",
   "execution_count": 3,
   "id": "2bed81f1",
   "metadata": {},
   "outputs": [
    {
     "name": "stdout",
     "output_type": "stream",
     "text": [
      "Load Dataset\n",
      "Load Dataset\n"
     ]
    }
   ],
   "source": [
    "_, _, test = get_qm9_dataset('../data/qm9_hackerthon')"
   ]
  },
  {
   "cell_type": "code",
   "execution_count": 4,
   "id": "9c524f37",
   "metadata": {},
   "outputs": [],
   "source": [
    "test_dataset = DataLoader(test, batch_size=64)"
   ]
  },
  {
   "cell_type": "code",
   "execution_count": 5,
   "id": "8ed88380",
   "metadata": {},
   "outputs": [],
   "source": [
    "# config_file = glob('../config/QM9/DimeNet/config.yaml')[0]\n",
    "config_file = glob('../../exp/DimeNet/__0922_175635/config.yaml')[0]\n",
    "config = edict(yaml.load(open(config_file, 'r'), Loader=yaml.FullLoader))"
   ]
  },
  {
   "cell_type": "code",
   "execution_count": 6,
   "id": "d13c313c",
   "metadata": {},
   "outputs": [],
   "source": [
    "best_model = DimeNet(config.model)"
   ]
  },
  {
   "cell_type": "code",
   "execution_count": 12,
   "id": "aaacd024",
   "metadata": {},
   "outputs": [
    {
     "data": {
      "text/plain": [
       "<All keys matched successfully>"
      ]
     },
     "execution_count": 12,
     "metadata": {},
     "output_type": "execute_result"
    }
   ],
   "source": [
    "best_model_dir = os.path.join('../../exp/DimeNet/__0922_175635/model_save', 'best.pth')\n",
    "best_snapshot = load_model(best_model_dir)\n",
    "best_model.load_state_dict(best_snapshot)"
   ]
  },
  {
   "cell_type": "code",
   "execution_count": 13,
   "id": "2fdeae26",
   "metadata": {},
   "outputs": [],
   "source": [
    "best_model = best_model.to(device=0)"
   ]
  },
  {
   "cell_type": "code",
   "execution_count": 14,
   "id": "bd0764cc",
   "metadata": {},
   "outputs": [
    {
     "name": "stderr",
     "output_type": "stream",
     "text": [
      "100%|█████████████████████████████████████████████████████████████████████████████████████████████████████████████████████████████████████████████████████████████████| 512/512 [00:24<00:00, 21.28it/s]\n"
     ]
    }
   ],
   "source": [
    "best_model.eval()\n",
    "\n",
    "submission = []\n",
    "\n",
    "for data_batch in tqdm(test_dataset):\n",
    "    data_batch = data_batch.to(device=0)\n",
    "    \n",
    "    with torch.no_grad():\n",
    "        out = best_model(z=data_batch.z, pos=data_batch.pos, edge_index=data_batch.edge_index,\n",
    "                         batch=data_batch.batch)\n",
    "        \n",
    "        pred = out.cpu().detach().numpy().reshape(-1).tolist()\n",
    "        submission += pred"
   ]
  },
  {
   "cell_type": "code",
   "execution_count": 15,
   "id": "86722e04",
   "metadata": {},
   "outputs": [],
   "source": [
    "submission = np.array(submission)"
   ]
  },
  {
   "cell_type": "code",
   "execution_count": 16,
   "id": "6d3db13e",
   "metadata": {},
   "outputs": [],
   "source": [
    "submission = pd.DataFrame(submission)"
   ]
  },
  {
   "cell_type": "code",
   "execution_count": 25,
   "id": "c92ce07b",
   "metadata": {},
   "outputs": [],
   "source": [
    "np.savetxt('sample1.csv', submission)"
   ]
  },
  {
   "cell_type": "code",
   "execution_count": null,
   "id": "246c1f19",
   "metadata": {},
   "outputs": [],
   "source": []
  }
 ],
 "metadata": {
  "kernelspec": {
   "display_name": "Python 3 (ipykernel)",
   "language": "python",
   "name": "python3"
  },
  "language_info": {
   "codemirror_mode": {
    "name": "ipython",
    "version": 3
   },
   "file_extension": ".py",
   "mimetype": "text/x-python",
   "name": "python",
   "nbconvert_exporter": "python",
   "pygments_lexer": "ipython3",
   "version": "3.8.12"
  }
 },
 "nbformat": 4,
 "nbformat_minor": 5
}
